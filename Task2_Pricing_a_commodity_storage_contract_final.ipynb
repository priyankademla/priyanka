{
  "nbformat": 4,
  "nbformat_minor": 0,
  "metadata": {
    "colab": {
      "provenance": []
    },
    "kernelspec": {
      "name": "python3",
      "display_name": "Python 3"
    },
    "language_info": {
      "name": "python"
    }
  },
  "cells": [
    {
      "cell_type": "code",
      "execution_count": 83,
      "metadata": {
        "id": "YU9IFZhd05Yd"
      },
      "outputs": [],
      "source": [
        "import pandas as pd\n",
        "import numpy as np\n",
        "import matplotlib.pyplot as plt\n",
        "from datetime import date, timedelta"
      ]
    },
    {
      "cell_type": "code",
      "source": [
        "def calculate_contract_value(injection_dates,withdrawal_dates,purchase_prices,sale_prices,injection_rate,withdrawal_rate,max_volume,storage_costs,rental_amount,injection_withdrawal_cost,transport_cost):\n",
        "  contract_value = 0.0\n",
        "  current_volume = 0.0\n",
        "\n",
        "  for i in range(len(injection_dates)):\n",
        "    injection_date = injection_dates[i]\n",
        "    withdrawal_date = withdrawal_dates[i]\n",
        "    purchase_price = purchase_prices[i]\n",
        "    sale_price = sale_prices[i]\n",
        "\n",
        "    #duration calculation\n",
        "    duration = (withdrawal_date - injection_date).days\n",
        "\n",
        "    #volume of gas injected and cost of injection\n",
        "    injected_volume = injection_rate * duration\n",
        "    injection_cost = injected_volume*purchase_price\n",
        "\n",
        "    #volume of gas withdrawn and revenue from sale\n",
        "    withdrawn_volume = withdrawal_rate * duration\n",
        "    withdrawal_revenue = withdrawn_volume * sale_price\n",
        "\n",
        "    current_volume += injected_volume - withdrawn_volume\n",
        "\n",
        "    total_storage_cost = current_volume * storage_costs *duration\n",
        "\n",
        "    other_costs = rental_amount * duration + injection_withdrawal_cost * (injected_volume + withdrawn_volume) + transport_cost\n",
        "\n",
        "    net_cashflow = withdrawal_revenue - injection_cost - total_storage_cost - other_costs\n",
        "\n",
        "    contract_value += net_cashflow\n",
        "\n",
        "  return contract_value"
      ],
      "metadata": {
        "id": "lE1d6M7s1EBI"
      },
      "execution_count": 82,
      "outputs": []
    },
    {
      "cell_type": "code",
      "source": [
        "#Example solution\n",
        "\n",
        "injection_date = [date(2023, 1, 1), date(2023, 2, 1)]\n",
        "withdrawal_date = [date(2023, 1, 15), date(2023, 2, 15)]\n",
        "purchase_price = [2.5, 2.6]\n",
        "sale_price = [3.0, 5]\n",
        "injection_rate = 100\n",
        "withdrawal_rate = 80.0\n",
        "max_volume = 50000.0\n",
        "storage_costs = 0.0005\n",
        "injection_withdrawal_cost = 0.0005\n",
        "rental_amount = 20\n",
        "transport_cost = 2\n",
        "\n",
        "\n",
        "contract_value = calculate_contract_value(injection_date, withdrawal_date, purchase_price, sale_price, injection_rate, withdrawal_rate, max_volume, storage_costs,rental_amount,injection_withdrawal_cost,transport_cost)\n",
        "\n",
        "print(\"Contract Value:\",contract_value)"
      ],
      "metadata": {
        "colab": {
          "base_uri": "https://localhost:8080/"
        },
        "id": "Vk2LBVzW4Xub",
        "outputId": "4ddae854-7630-4914-b67f-cc6e8cdb1890"
      },
      "execution_count": 89,
      "outputs": [
        {
          "output_type": "stream",
          "name": "stdout",
          "text": [
            "Contract Value: 1247.6\n"
          ]
        }
      ]
    }
  ]
}